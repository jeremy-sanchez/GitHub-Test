{
 "cells": [
  {
   "cell_type": "markdown",
   "id": "546f2f67-5e29-4b3b-8f3e-0fc19b15729f",
   "metadata": {},
   "source": [
    "## This is notebook 1."
   ]
  },
  {
   "cell_type": "code",
   "execution_count": null,
   "id": "f3554bfc-12c8-472c-b8ef-24f762307ee4",
   "metadata": {},
   "outputs": [],
   "source": [
    "from datascience import *"
   ]
  },
  {
   "cell_type": "code",
   "execution_count": null,
   "id": "eb05c103-aa31-4123-a3dc-a7e92be6319e",
   "metadata": {},
   "outputs": [],
   "source": [
    "cones = Table.read_table('cones.csv')"
   ]
  },
  {
   "cell_type": "code",
   "execution_count": null,
   "id": "adbce4f5-65ee-4542-a6f3-9e02f8290b1d",
   "metadata": {},
   "outputs": [],
   "source": [
    "cones"
   ]
  },
  {
   "cell_type": "code",
   "execution_count": null,
   "id": "46b06b9f-7b95-49a6-94ec-30566731efb9",
   "metadata": {},
   "outputs": [],
   "source": []
  }
 ],
 "metadata": {
  "kernelspec": {
   "display_name": "Python 3 (ipykernel)",
   "language": "python",
   "name": "python3"
  },
  "language_info": {
   "codemirror_mode": {
    "name": "ipython",
    "version": 3
   },
   "file_extension": ".py",
   "mimetype": "text/x-python",
   "name": "python",
   "nbconvert_exporter": "python",
   "pygments_lexer": "ipython3",
   "version": "3.11.9"
  }
 },
 "nbformat": 4,
 "nbformat_minor": 5
}
